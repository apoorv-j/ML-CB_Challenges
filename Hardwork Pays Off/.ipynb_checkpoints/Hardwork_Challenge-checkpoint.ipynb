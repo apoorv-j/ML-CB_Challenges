{
 "cells": [
  {
   "cell_type": "markdown",
   "metadata": {},
   "source": [
    "# Linear Regression\n",
    "    \n",
    "    * Read given X_Train and Y_Train\n",
    "    * Write function for Univariate Linear Regression without sklearn\n",
    "    * Predict Y_test for given X_test\n",
    "    * Save the result in csv file\n"
   ]
  },
  {
   "cell_type": "code",
   "execution_count": 3,
   "metadata": {},
   "outputs": [],
   "source": [
    "import numpy as np\n",
    "from matplotlib import pyplot as plt\n",
    "import pandas as pd"
   ]
  },
  {
   "cell_type": "code",
   "execution_count": 4,
   "metadata": {},
   "outputs": [],
   "source": [
    "X_train,Y_train = pd.read_csv(\"Linear_X_Train.csv\").values,pd.read_csv(\"Linear_Y_Train.csv\").values"
   ]
  },
  {
   "cell_type": "code",
   "execution_count": 5,
   "metadata": {},
   "outputs": [
    {
     "data": {
      "text/plain": [
       "((3750, 1), (3750, 1))"
      ]
     },
     "execution_count": 5,
     "metadata": {},
     "output_type": "execute_result"
    }
   ],
   "source": [
    "X_train.shape,Y_train.shape"
   ]
  },
  {
   "cell_type": "code",
   "execution_count": 6,
   "metadata": {},
   "outputs": [
    {
     "data": {
      "text/plain": [
       "<matplotlib.collections.PathCollection at 0x7f9f825f6a58>"
      ]
     },
     "execution_count": 6,
     "metadata": {},
     "output_type": "execute_result"
    },
    {
     "data": {
      "image/png": "[encoded data removed]",
      "text/plain": [
       "<Figure size 432x288 with 1 Axes>"
      ]
     },
     "metadata": {
      "needs_background": "light"
     },
     "output_type": "display_data"
    }
   ],
   "source": [
    "plt.scatter(X_train,Y_train)"
   ]
  },
  {
   "cell_type": "code",
   "execution_count": 7,
   "metadata": {},
   "outputs": [],
   "source": [
    "class UniVariateLinearRegression:\n",
    "    \n",
    "    def __init__(self, X, y):\n",
    "        self.X = X\n",
    "        self.y = y\n",
    "        self.coef = np.random.uniform(low=-1, high=1)\n",
    "        self.bias = np.random.random()\n",
    "        \n",
    "    def compute_loss(self):\n",
    "        losses = []\n",
    "        for x,y in zip(self.X, self.y):\n",
    "            yhat = self.predict(x)\n",
    "            loss = (y - yhat)**2\n",
    "            losses.append(loss)\n",
    "        \n",
    "        losses = np.array(losses)\n",
    "        return losses.sum() / (2 * self.X.shape[0])\n",
    "    \n",
    "    ### Gradient Descent\n",
    "    def calculate_gradients(self):\n",
    "        grad_00, grad_01 = list(), list()\n",
    "        \n",
    "        for x,y in zip(self.X, self.y):\n",
    "            yhat = self.predict(x)\n",
    "            grad_00.append(yhat - y)\n",
    "            grad_01.append((yhat - y)*x)\n",
    "        \n",
    "        grad_00, grad_01 = np.array(grad_00), np.array(grad_01)\n",
    "        grad_00 = grad_00.sum() / (self.X.shape[0])\n",
    "        grad_01 = grad_01.sum() / (self.X.shape[0])\n",
    "        return (grad_00, grad_01) # Bias, Coef\n",
    "    \n",
    "    def update_weights(self, gradients, learning_rate):\n",
    "        self.bias = self.bias - (learning_rate * gradients[0])\n",
    "        self.coef = self.coef - (learning_rate * gradients[1])\n",
    "    ### \n",
    "    \n",
    "    def predict(self, x):\n",
    "        return self.coef * x + self.bias\n",
    "    \n",
    "    def get_all_preds(self):\n",
    "        preds = []\n",
    "        for x in self.X:\n",
    "            preds.append(self.predict(x))\n",
    "        return preds\n",
    "    \n",
    "    def train(self, losses, iterations=10, alpha=0.01):\n",
    "        for _ in range(iterations):\n",
    "            gradients = self.calculate_gradients()\n",
    "            self.update_weights(gradients, alpha)\n",
    "            losses.append(self.compute_loss())\n",
    "        return losses"
   ]
  },
  {
   "cell_type": "code",
   "execution_count": 8,
   "metadata": {},
   "outputs": [],
   "source": [
    "univariate = UniVariateLinearRegression(X_train,Y_train[:,0])\n",
    "losses = [univariate.compute_loss()]"
   ]
  },
  {
   "cell_type": "code",
   "execution_count": 9,
   "metadata": {},
   "outputs": [
    {
     "data": {
      "text/plain": [
       "[3223.6634568905647]"
      ]
     },
     "execution_count": 9,
     "metadata": {},
     "output_type": "execute_result"
    }
   ],
   "source": [
    "losses"
   ]
  },
  {
   "cell_type": "code",
   "execution_count": 10,
   "metadata": {},
   "outputs": [],
   "source": [
    "initial_preds = univariate.get_all_preds()"
   ]
  },
  {
   "cell_type": "code",
   "execution_count": 11,
   "metadata": {},
   "outputs": [],
   "source": [
    "def plot_best_fit(X, y, preds, title=''):\n",
    "    plt.figure()\n",
    "    plt.title(title)\n",
    "    plt.scatter(X[:, 0], y)\n",
    "    plt.plot(X[:, 0], preds, 'r')\n",
    "    plt.show()"
   ]
  },
  {
   "cell_type": "code",
   "execution_count": 12,
   "metadata": {},
   "outputs": [
    {
     "data": {
      "image/png": "[encoded data removed]",
      "text/plain": [
       "<Figure size 432x288 with 1 Axes>"
      ]
     },
     "metadata": {
      "needs_background": "light"
     },
     "output_type": "display_data"
    }
   ],
   "source": [
    "plot_best_fit(X_train, Y_train, initial_preds, 'Initial Fit')"
   ]
  },
  {
   "cell_type": "code",
   "execution_count": 13,
   "metadata": {},
   "outputs": [
    {
     "data": {
      "text/plain": [
       "[95.47780099893812,\n",
       " 95.47780097715072,\n",
       " 95.47780095540533,\n",
       " 95.47780093370184,\n",
       " 95.4778009120402,\n",
       " 95.47780089042028,\n",
       " 95.47780086884201,\n",
       " 95.47780084730536,\n",
       " 95.47780082581018,\n",
       " 95.47780080435645]"
      ]
     },
     "execution_count": 13,
     "metadata": {},
     "output_type": "execute_result"
    }
   ],
   "source": [
    "losses = univariate.train(losses, iterations=10000, alpha=0.001)\n",
    "losses[-10:]"
   ]
  },
  {
   "cell_type": "code",
   "execution_count": 14,
   "metadata": {},
   "outputs": [
    {
     "data": {
      "image/png": "[encoded data removed]",
      "text/plain": [
       "<Figure size 432x288 with 1 Axes>"
      ]
     },
     "metadata": {
      "needs_background": "light"
     },
     "output_type": "display_data"
    }
   ],
   "source": [
    "preds = univariate.get_all_preds()\n",
    "plot_best_fit(X_train,Y_train, preds)"
   ]
  },
  {
   "cell_type": "markdown",
   "metadata": {},
   "source": [
    "## Testing"
   ]
  },
  {
   "cell_type": "code",
   "execution_count": 15,
   "metadata": {},
   "outputs": [],
   "source": [
    "X_test = pd.read_csv(\"Linear_X_Test.csv\").values"
   ]
  },
  {
   "cell_type": "code",
   "execution_count": 16,
   "metadata": {},
   "outputs": [
    {
     "data": {
      "text/plain": [
       "1250"
      ]
     },
     "execution_count": 16,
     "metadata": {},
     "output_type": "execute_result"
    }
   ],
   "source": [
    "X_test.shape[0]"
   ]
  },
  {
   "cell_type": "code",
   "execution_count": 17,
   "metadata": {},
   "outputs": [],
   "source": [
    "Y_test = np.zeros(X_test.shape)"
   ]
  },
  {
   "cell_type": "code",
   "execution_count": 18,
   "metadata": {},
   "outputs": [
    {
     "data": {
      "text/plain": [
       "(1250, 1)"
      ]
     },
     "execution_count": 18,
     "metadata": {},
     "output_type": "execute_result"
    }
   ],
   "source": [
    "Y_test.shape"
   ]
  },
  {
   "cell_type": "code",
   "execution_count": 19,
   "metadata": {},
   "outputs": [],
   "source": [
    "firstpred = univariate.predict(X_test[:1,0])"
   ]
  },
  {
   "cell_type": "code",
   "execution_count": 20,
   "metadata": {},
   "outputs": [
    {
     "data": {
      "text/plain": [
       "(array([-147.52167292]), array([-1.87794441]))"
      ]
     },
     "execution_count": 20,
     "metadata": {},
     "output_type": "execute_result"
    }
   ],
   "source": [
    "firstpred,X_test[:1,0]"
   ]
  },
  {
   "cell_type": "code",
   "execution_count": 21,
   "metadata": {},
   "outputs": [],
   "source": [
    "def get_all_preds(X):\n",
    "        preds = []\n",
    "        for x in X:\n",
    "            preds.append(univariate.predict(x))\n",
    "        return preds"
   ]
  },
  {
   "cell_type": "code",
   "execution_count": 22,
   "metadata": {},
   "outputs": [],
   "source": [
    "Y_test[:,0] = get_all_preds(X_test[:,0])"
   ]
  },
  {
   "cell_type": "code",
   "execution_count": 23,
   "metadata": {},
   "outputs": [
    {
     "data": {
      "text/plain": [
       "array([[-147.52167292],\n",
       "       [ -66.26474465],\n",
       "       [-200.05235058],\n",
       "       [ 226.03085144],\n",
       "       [  51.32495651],\n",
       "       [-100.62020219],\n",
       "       [ -12.12603096],\n",
       "       [  27.24997853],\n",
       "       [ -62.45211816],\n",
       "       [-117.20851263]])"
      ]
     },
     "execution_count": 23,
     "metadata": {},
     "output_type": "execute_result"
    }
   ],
   "source": [
    "Y_test[:10]"
   ]
  },
  {
   "cell_type": "code",
   "execution_count": 25,
   "metadata": {},
   "outputs": [],
   "source": [
    "np.savetxt(\"Linear_Y_Test.csv\",Y_test[:,0],header=\"y\",fmt=\"%f\")"
   ]
  }
 ],
 "metadata": {
  "kernelspec": {
   "display_name": "Python 3",
   "language": "python",
   "name": "python3"
  },
  "language_info": {
   "codemirror_mode": {
    "name": "ipython",
    "version": 3
   },
   "file_extension": ".py",
   "mimetype": "text/x-python",
   "name": "python",
   "nbconvert_exporter": "python",
   "pygments_lexer": "ipython3",
   "version": "3.7.3"
  }
 },
 "nbformat": 4,
 "nbformat_minor": 2
}
